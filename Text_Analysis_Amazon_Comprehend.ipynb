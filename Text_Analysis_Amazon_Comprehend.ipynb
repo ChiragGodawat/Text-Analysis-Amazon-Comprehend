{
 "cells": [
  {
   "cell_type": "markdown",
   "metadata": {},
   "source": [
    "# MLC - Working with AWS - Graded Questions"
   ]
  },
  {
   "cell_type": "markdown",
   "metadata": {},
   "source": [
    "## Text Analysis using AWS Services"
   ]
  },
  {
   "cell_type": "markdown",
   "metadata": {},
   "source": [
    "Review of a course offered by upGrad:\n",
    "\n",
    "#### Review:\n",
    "\n",
    "*I am currently close to completing my Post Graduate Diploma in Data Science from IIIT Bangalore in collaboration with UpGrad and therefore I feel I can throw some light on the program and help others make an informed decision on choosing programs offered by UpGrad.*\n",
    "\n",
    "*Prior to taking up the course with UpGrad, I had done a few courses from edX and Coursera platforms posted by various Universities across the globe. This, I combined with online resources and study material in hopes of making a career transition to Data Science. The fact is, we have all the required resources available online such as video material for teaching the technology, data sets to gain coding knowledge and other materials to teach us about the business domain. Honestly, after about 4 months of trying to crack data science this way (the hard way), it didn’t seem like I was making any headway. I was nowhere close to understanding an industry which is not an IT discipline at all, but rather a field which combines Mathematics, Coding and above all Business domain.*\n",
    "\n",
    "*This is when I found out about the PGDDS course offered by UpGrad which provided a definite structure in the vast ocean of information about the Data Science Industry available online. It gave the benefit of a structured program rather than spending or wasting huge amounts of time just trying to accumulate all the resources required to make some headway. Simply put, it saved me the effort of searching for needles in a mammoth haystack (internet).*\n",
    "\n",
    "*So I signed up for the program and after completing 10 months of the 11 month program, here are the few benefits I have felt.*\n",
    "\n",
    "*1. First and foremost, this is not a certification course but a Post Graduate Diploma provided by an accredited University that carries a lot of value than any certification course. Let’s be honest, any company would always value a university degree over any online certification course.*\n",
    "\n",
    "*2. Faculty who teach different modules are top notch in their fields having Doctorate or Master’s degree. Further, since Data Science is inter-disciplinary in nature, therefore we would require faculties with experience in the relevant disciplines to guide us. IIIT-B in collaboration with UpGrad have chosen faculties with the right qualification to match with the different disciplines.*\n",
    "\n",
    "*3. Moreover, UpGrad has tied up with industry professionals working at companies such as Gramener, Uber, Flipkart etc. to provide the students with a course that makes it more aligned with the happenings in the current Data Science Industry. They also let you work on case studies using real time data (as opposed to fabricated data) providing us with exposure to actual problems in the industry being solved using Data Analytics.*\n",
    "\n",
    "*4. UpGrad has further tied up with a third party company known as Tapchief to allow us to interact with top professionals in the industry. This is aimed at giving us guidance on how we can further our career in the field considering our educational qualification, past experiences, our expectation or goals, and age. They also help in guiding us in our final Capstone Project through video chats and main benefit of this is to guide us in terms of realistic approaches to the problem and providing business insights into the given problems.*\n",
    "\n",
    "*5. Biggest benefit: Networking!!! The biggest benefit I have received is being able to collaborate with so many other students who are industry professionals at different stages of the course. Numerous opportunities are given to interact with this diverse group of people such as working in groups on numerous case studies, meeting them at basecamps arranged by UpGrad and lot of us can meet up at campus library if you are from Bangalore.*\n",
    "\n",
    "*UpGrad is trying to tackle a concern or a problem which has been voiced by so many CEO’s of top IT organizations: EMPLOYABILITY. They do this by collaborating not just with an academic institute, but also bringing in industry experts to give us the right tools required in the market.*\n",
    "\n",
    "*I understand the course fees are on the upper side compared to many other online and offline courses offered, but I don’t personally believe there are many platforms which offer a holistic package such as the one’s UpGrad offered.*\n",
    "\n",
    "*I hope this review helps anyone wishing to pursue a course offered by UpGrad and I must say, taking up any of the courses is serious business and will require serious time and effort from the candidates.*"
   ]
  },
  {
   "cell_type": "markdown",
   "metadata": {},
   "source": [
    "#### Your task is to use the appriopriate AWS services to check the key points mentioned by the student. Also, you must identify whether the student is satisfied with the course or not."
   ]
  },
  {
   "cell_type": "code",
   "execution_count": 1,
   "metadata": {},
   "outputs": [],
   "source": [
    "# Import the required libraries and define the required variables\n",
    "import boto3\n",
    "\n",
    "#Creating variable review which contains the review\n",
    "\n",
    "review = \"\"\"I am currently close to completing my Post Graduate Diploma in Data Science from IIIT Bangalore in collaboration with UpGrad and therefore I feel I can throw some light on the program and help others make an informed decision on choosing programs offered by UpGrad.\n",
    "\n",
    "Prior to taking up the course with UpGrad, I had done a few courses from edX and Coursera platforms posted by various Universities across the globe. This, I combined with online resources and study material in hopes of making a career transition to Data Science. The fact is, we have all the required resources available online such as video material for teaching the technology, data sets to gain coding knowledge and other materials to teach us about the business domain. Honestly, after about 4 months of trying to crack data science this way (the hard way), it didn’t seem like I was making any headway. I was nowhere close to understanding an industry which is not an IT discipline at all, but rather a field which combines Mathematics, Coding and above all Business domain.\n",
    "\n",
    "This is when I found out about the PGDDS course offered by UpGrad which provided a definite structure in the vast ocean of information about the Data Science Industry available online. It gave the benefit of a structured program rather than spending or wasting huge amounts of time just trying to accumulate all the resources required to make some headway. Simply put, it saved me the effort of searching for needles in a mammoth haystack (internet).\n",
    "\n",
    "So I signed up for the program and after completing 10 months of the 11 month program, here are the few benefits I have felt.\n",
    "\n",
    "1. First and foremost, this is not a certification course but a Post Graduate Diploma provided by an accredited University that carries a lot of value than any certification course. Let’s be honest, any company would always value a university degree over any online certification course.\n",
    "\n",
    "2. Faculty who teach different modules are top notch in their fields having Doctorate or Master’s degree. Further, since Data Science is inter-disciplinary in nature, therefore we would require faculties with experience in the relevant disciplines to guide us. IIIT-B in collaboration with UpGrad have chosen faculties with the right qualification to match with the different disciplines.\n",
    "\n",
    "3. Moreover, UpGrad has tied up with industry professionals working at companies such as Gramener, Uber, Flipkart etc. to provide the students with a course that makes it more aligned with the happenings in the current Data Science Industry. They also let you work on case studies using real time data (as opposed to fabricated data) providing us with exposure to actual problems in the industry being solved using Data Analytics.\n",
    "\n",
    "4. UpGrad has further tied up with a third party company known as Tapchief to allow us to interact with top professionals in the industry. This is aimed at giving us guidance on how we can further our career in the field considering our educational qualification, past experiences, our expectation or goals, and age. They also help in guiding us in our final Capstone Project through video chats and main benefit of this is to guide us in terms of realistic approaches to the problem and providing business insights into the given problems.\n",
    "\n",
    "5. Biggest benefit: Networking!!! The biggest benefit I have received is being able to collaborate with so many other students who are industry professionals at different stages of the course. Numerous opportunities are given to interact with this diverse group of people such as working in groups on numerous case studies, meeting them at basecamps arranged by UpGrad and lot of us can meet up at campus library if you are from Bangalore.\n",
    "\n",
    "UpGrad is trying to tackle a concern or a problem which has been voiced by so many CEO’s of top IT organizations: EMPLOYABILITY. They do this by collaborating not just with an academic institute, but also bringing in industry experts to give us the right tools required in the market.\n",
    "\n",
    "I understand the course fees are on the upper side compared to many other online and offline courses offered, but I don’t personally believe there are many platforms which offer a holistic package such as the one’s UpGrad offered.\n",
    "\n",
    "I hope this review helps anyone wishing to pursue a course offered by UpGrad and I must say, taking up any of the courses is serious business and will require serious time and effort from the candidates.\"\"\"\n"
   ]
  },
  {
   "cell_type": "code",
   "execution_count": 2,
   "metadata": {},
   "outputs": [
    {
     "name": "stdout",
     "output_type": "stream",
     "text": [
      "I am currently close to completing my Post Graduate Diploma in Data Science from IIIT Bangalore in collaboration with UpGrad and therefore I feel I can throw some light on the program and help others make an informed decision on choosing programs offered by UpGrad.\n",
      "\n",
      "Prior to taking up the course with UpGrad, I had done a few courses from edX and Coursera platforms posted by various Universities across the globe. This, I combined with online resources and study material in hopes of making a career transition to Data Science. The fact is, we have all the required resources available online such as video material for teaching the technology, data sets to gain coding knowledge and other materials to teach us about the business domain. Honestly, after about 4 months of trying to crack data science this way (the hard way), it didn’t seem like I was making any headway. I was nowhere close to understanding an industry which is not an IT discipline at all, but rather a field which combines Mathematics, Coding and above all Business domain.\n",
      "\n",
      "This is when I found out about the PGDDS course offered by UpGrad which provided a definite structure in the vast ocean of information about the Data Science Industry available online. It gave the benefit of a structured program rather than spending or wasting huge amounts of time just trying to accumulate all the resources required to make some headway. Simply put, it saved me the effort of searching for needles in a mammoth haystack (internet).\n",
      "\n",
      "So I signed up for the program and after completing 10 months of the 11 month program, here are the few benefits I have felt.\n",
      "\n",
      "1. First and foremost, this is not a certification course but a Post Graduate Diploma provided by an accredited University that carries a lot of value than any certification course. Let’s be honest, any company would always value a university degree over any online certification course.\n",
      "\n",
      "2. Faculty who teach different modules are top notch in their fields having Doctorate or Master’s degree. Further, since Data Science is inter-disciplinary in nature, therefore we would require faculties with experience in the relevant disciplines to guide us. IIIT-B in collaboration with UpGrad have chosen faculties with the right qualification to match with the different disciplines.\n",
      "\n",
      "3. Moreover, UpGrad has tied up with industry professionals working at companies such as Gramener, Uber, Flipkart etc. to provide the students with a course that makes it more aligned with the happenings in the current Data Science Industry. They also let you work on case studies using real time data (as opposed to fabricated data) providing us with exposure to actual problems in the industry being solved using Data Analytics.\n",
      "\n",
      "4. UpGrad has further tied up with a third party company known as Tapchief to allow us to interact with top professionals in the industry. This is aimed at giving us guidance on how we can further our career in the field considering our educational qualification, past experiences, our expectation or goals, and age. They also help in guiding us in our final Capstone Project through video chats and main benefit of this is to guide us in terms of realistic approaches to the problem and providing business insights into the given problems.\n",
      "\n",
      "5. Biggest benefit: Networking!!! The biggest benefit I have received is being able to collaborate with so many other students who are industry professionals at different stages of the course. Numerous opportunities are given to interact with this diverse group of people such as working in groups on numerous case studies, meeting them at basecamps arranged by UpGrad and lot of us can meet up at campus library if you are from Bangalore.\n",
      "\n",
      "UpGrad is trying to tackle a concern or a problem which has been voiced by so many CEO’s of top IT organizations: EMPLOYABILITY. They do this by collaborating not just with an academic institute, but also bringing in industry experts to give us the right tools required in the market.\n",
      "\n",
      "I understand the course fees are on the upper side compared to many other online and offline courses offered, but I don’t personally believe there are many platforms which offer a holistic package such as the one’s UpGrad offered.\n",
      "\n",
      "I hope this review helps anyone wishing to pursue a course offered by UpGrad and I must say, taking up any of the courses is serious business and will require serious time and effort from the candidates.\n"
     ]
    }
   ],
   "source": [
    "print(review)"
   ]
  },
  {
   "cell_type": "markdown",
   "metadata": {},
   "source": [
    "#### Question 1.\n",
    "\n",
    "Which of the following commands will help you get the gist of the review?\n",
    "\n",
    "- detect_entities\n",
    "- detect_sentiment\n",
    "- detect_key_phrases\n",
    "- detect_syntax"
   ]
  },
  {
   "cell_type": "code",
   "execution_count": 3,
   "metadata": {},
   "outputs": [
    {
     "name": "stdout",
     "output_type": "stream",
     "text": [
      "['my Post Graduate Diploma', 'Data Science', 'IIIT Bangalore', 'collaboration', 'UpGrad', 'some light', 'the program', 'an informed decision', 'programs', 'UpGrad', 'the course', 'UpGrad', 'a few courses', 'edX', 'Coursera platforms', 'various Universities', 'the globe', 'online resources and study material', 'hopes', 'a career transition', 'Data Science', 'The fact', 'all the required resources', 'video material', 'the technology', 'data', 'coding', 'knowledge and other materials', 'the business domain', 'about 4 months', 'data science', 'this way', 'the hard way', 'any headway', 'an industry', 'an IT discipline', 'a field', 'Mathematics, Coding', 'all Business domain', 'the PGDDS course', 'UpGrad', 'a definite structure', 'the vast ocean', 'information', 'the Data Science Industry', 'the benefit', 'a structured program', 'huge amounts', 'time', 'all the resources', 'some headway', 'the effort', 'needles', 'a mammoth haystack', 'internet', 'the program', '10 months', 'the 11 month program', 'the few benefits', '1', 'a certification course', 'a Post Graduate Diploma', 'an accredited University', 'a lot', 'any certification course', 'any company', 'a university degree', 'any online certification course', '2', 'Faculty', 'different modules', 'top notch', 'their fields', 'Doctorate or Master', '’s degree', 'Data Science', 'disciplinary', 'nature', 'faculties', 'experience', 'the relevant disciplines', 'IIIT-B', 'collaboration', 'UpGrad', 'faculties', 'the right qualification', 'the different disciplines', '3', 'UpGrad', 'industry professionals', 'companies', 'Gramener, Uber, Flipkart etc.', 'the students', 'a course', 'the happenings', 'the current Data Science Industry', 'case studies', 'real time data', 'fabricated data', 'exposure', 'actual problems', 'the industry', 'Data Analytics', '4', 'UpGrad', 'a third party company', 'Tapchief', 'top professionals', 'the industry', 'our career', 'the field', 'our educational qualification', 'past experiences', 'our expectation or', 'goals', 'age', 'our final Capstone Project', 'video chats', 'main benefit', 'terms', 'realistic approaches', 'the problem', 'business insights', 'the given problems', '5', 'Biggest benefit', 'The biggest benefit', 'so many other students', 'industry professionals', 'different stages', 'the course', 'Numerous opportunities', 'this diverse group', 'people', 'groups', 'numerous case studies', 'basecamps', 'UpGrad', 'lot', 'campus library', 'Bangalore', 'UpGrad', 'a concern', 'a problem', 'so many CEO', 'top IT organizations', 'EMPLOYABILITY', 'an academic institute', 'industry experts', 'the right tools', 'the market', 'the course fees', 'the upper side', 'many other online and offline courses', 'many platforms', 'a holistic package', 'the one', '’s UpGrad', 'this review', 'a course', 'UpGrad', 'the courses', 'serious business', 'serious time and effort', 'the candidates']\n"
     ]
    }
   ],
   "source": [
    "# Provide your code here\n",
    "comprehend = boto3.client('comprehend',region_name = 'us-east-1')\n",
    "response_key_phrases = comprehend.detect_key_phrases(Text = review, LanguageCode = 'en')\n",
    "# print(response_key_phrases)\n",
    "#Creating a list of key phrases\n",
    "key_phrases = []\n",
    "for i in response_key_phrases['KeyPhrases']:\n",
    "    key_phrases.append(i['Text'])\n",
    "print(key_phrases)"
   ]
  },
  {
   "cell_type": "markdown",
   "metadata": {},
   "source": [
    "#### Question 2.\n",
    "\n",
    "Which of the following companies is not listed in the review?\n",
    "\n",
    "- upGrad\n",
    "- Gramener\n",
    "- Flipkart\n",
    "- Ola"
   ]
  },
  {
   "cell_type": "code",
   "execution_count": 4,
   "metadata": {},
   "outputs": [
    {
     "name": "stdout",
     "output_type": "stream",
     "text": [
      "True\n"
     ]
    }
   ],
   "source": [
    "#Checking for upgrad in review variable, making sure the case is same\n",
    "print('upGrad'.lower() in review.lower())"
   ]
  },
  {
   "cell_type": "code",
   "execution_count": 5,
   "metadata": {},
   "outputs": [
    {
     "name": "stdout",
     "output_type": "stream",
     "text": [
      "True\n"
     ]
    }
   ],
   "source": [
    "#Checking for Gramener in review variable, making sure the case is same\n",
    "\n",
    "print('Gramener'.lower() in review.lower())"
   ]
  },
  {
   "cell_type": "code",
   "execution_count": 6,
   "metadata": {},
   "outputs": [
    {
     "name": "stdout",
     "output_type": "stream",
     "text": [
      "True\n"
     ]
    }
   ],
   "source": [
    "#Checking for Flipkart in review variable, making sure the case is same\n",
    "\n",
    "print('Flipkart'.lower() in review.lower())"
   ]
  },
  {
   "cell_type": "code",
   "execution_count": 7,
   "metadata": {},
   "outputs": [
    {
     "name": "stdout",
     "output_type": "stream",
     "text": [
      "False\n"
     ]
    }
   ],
   "source": [
    "#Checking for ola in review variable, making sure the case is same\n",
    "\n",
    "print('Ola'.lower() in review.lower())\n",
    "\n",
    "#As the result is false, ola is not mentioned in the review"
   ]
  },
  {
   "cell_type": "markdown",
   "metadata": {},
   "source": [
    "#### Question 3.\n",
    "\n",
    "Based on the results from sentiment analysis using Amazon Comprehened, select the most appropriate option. \n",
    "\n",
    "- The student has a very positive opinion about the couse.\n",
    "- The student doesn't feel that the course is worth.\n",
    "- The student suggests that some elements are really good in the course, but some of them are very bad.\n",
    "- The student feels that the course is neither good nor bad."
   ]
  },
  {
   "cell_type": "code",
   "execution_count": 8,
   "metadata": {},
   "outputs": [
    {
     "name": "stdout",
     "output_type": "stream",
     "text": [
      "NEUTRAL\n"
     ]
    }
   ],
   "source": [
    "# Provide your code here\n",
    "\n",
    "#checking for sentiments\n",
    "sentiment_response = comprehend.detect_sentiment(Text = review, LanguageCode = 'en')\n",
    "\n",
    "#Printing the output\n",
    "print(sentiment_response['Sentiment'])\n"
   ]
  },
  {
   "cell_type": "markdown",
   "metadata": {},
   "source": [
    "#### Question 4.\n",
    "\n",
    "Which key phrase in the most suitable one to describe the review? \n",
    "\n",
    "- Course\n",
    "- upGrad\n",
    "- Data Science\n",
    "- Education"
   ]
  },
  {
   "cell_type": "code",
   "execution_count": 9,
   "metadata": {},
   "outputs": [
    {
     "name": "stdout",
     "output_type": "stream",
     "text": [
      "Upgrad:  11\n",
      "Course:  13\n",
      "Data Science:  6\n",
      "Education:  1\n"
     ]
    }
   ],
   "source": [
    "# Provide your code here\n",
    "\n",
    "#Counting the number of occurances in the keyphrases\n",
    "\n",
    "upgradCount = 0\n",
    "courseCount = 0\n",
    "dataScienceCount = 0\n",
    "educationCount = 0\n",
    "for i in key_phrases:\n",
    "    if('upgrad' in i.lower()):\n",
    "        upgradCount =upgradCount+  1\n",
    "    elif (('course' in i.lower())):\n",
    "        courseCount = courseCount +1\n",
    "    elif (('data science' in i.lower())):\n",
    "        dataScienceCount  = dataScienceCount + 1\n",
    "    elif (('education' in i.lower())):\n",
    "        educationCount =educationCount +1\n",
    "\n",
    "print(\"Upgrad: \", upgradCount)\n",
    "print(\"Course: \", courseCount)\n",
    "print(\"Data Science: \", dataScienceCount)\n",
    "print(\"Education: \", educationCount)\n",
    "\n",
    "        \n"
   ]
  }
 ],
 "metadata": {
  "kernelspec": {
   "display_name": "Python 3",
   "language": "python",
   "name": "python3"
  },
  "language_info": {
   "codemirror_mode": {
    "name": "ipython",
    "version": 3
   },
   "file_extension": ".py",
   "mimetype": "text/x-python",
   "name": "python",
   "nbconvert_exporter": "python",
   "pygments_lexer": "ipython3",
   "version": "3.7.6"
  }
 },
 "nbformat": 4,
 "nbformat_minor": 2
}
